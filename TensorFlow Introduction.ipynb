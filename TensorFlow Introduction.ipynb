{
 "cells": [
  {
   "cell_type": "markdown",
   "id": "23ae92d6",
   "metadata": {},
   "source": [
    "Installing TensorFlow 2.0"
   ]
  },
  {
   "cell_type": "code",
   "execution_count": 18,
   "id": "1830f2a7",
   "metadata": {},
   "outputs": [],
   "source": [
    "#!pip install tensorflow-gpu"
   ]
  },
  {
   "cell_type": "code",
   "execution_count": 2,
   "id": "70dfb625",
   "metadata": {},
   "outputs": [],
   "source": [
    "import tensorflow as tf\n",
    "import numpy as np"
   ]
  },
  {
   "cell_type": "code",
   "execution_count": 3,
   "id": "c4ece8ec",
   "metadata": {},
   "outputs": [
    {
     "data": {
      "text/plain": [
       "'2.8.0'"
      ]
     },
     "execution_count": 3,
     "metadata": {},
     "output_type": "execute_result"
    }
   ],
   "source": [
    "tf.__version__"
   ]
  },
  {
   "cell_type": "markdown",
   "id": "84d0d6f1",
   "metadata": {},
   "source": [
    "# Constants/Tensors"
   ]
  },
  {
   "cell_type": "code",
   "execution_count": 4,
   "id": "7fc470f0",
   "metadata": {},
   "outputs": [],
   "source": [
    "#Defining a constant in TensorFlow 2.0\n",
    "tensor_20 = tf.constant([[23, 4], [32, 51]])"
   ]
  },
  {
   "cell_type": "code",
   "execution_count": 5,
   "id": "edaa145f",
   "metadata": {},
   "outputs": [
    {
     "data": {
      "text/plain": [
       "<tf.Tensor: shape=(2, 2), dtype=int32, numpy=\n",
       "array([[23,  4],\n",
       "       [32, 51]])>"
      ]
     },
     "execution_count": 5,
     "metadata": {},
     "output_type": "execute_result"
    }
   ],
   "source": [
    "tensor_20"
   ]
  },
  {
   "cell_type": "code",
   "execution_count": 6,
   "id": "61e95fb4",
   "metadata": {},
   "outputs": [
    {
     "data": {
      "text/plain": [
       "TensorShape([2, 2])"
      ]
     },
     "execution_count": 6,
     "metadata": {},
     "output_type": "execute_result"
    }
   ],
   "source": [
    "#Getting shape of a tensor\n",
    "tensor_20.shape"
   ]
  },
  {
   "cell_type": "markdown",
   "id": "e64113cb",
   "metadata": {},
   "source": [
    "# Getting values from constants"
   ]
  },
  {
   "cell_type": "code",
   "execution_count": 7,
   "id": "9bfb27c2",
   "metadata": {},
   "outputs": [
    {
     "data": {
      "text/plain": [
       "array([[23,  4],\n",
       "       [32, 51]])"
      ]
     },
     "execution_count": 7,
     "metadata": {},
     "output_type": "execute_result"
    }
   ],
   "source": [
    "# Getting values from a TensorFlow constant to numpy\n",
    "tensor_20.numpy()"
   ]
  },
  {
   "cell_type": "code",
   "execution_count": 9,
   "id": "5da7c19e",
   "metadata": {},
   "outputs": [],
   "source": [
    "# convert a numpy matrix  to a TensorFlow tensor\n",
    "numpy_matrix = np.array([[23,  4], [32, 51]])"
   ]
  },
  {
   "cell_type": "code",
   "execution_count": 10,
   "id": "24f78022",
   "metadata": {},
   "outputs": [],
   "source": [
    "tensor_from_numpy = tf.constant(numpy_matrix)"
   ]
  },
  {
   "cell_type": "code",
   "execution_count": 11,
   "id": "7330f710",
   "metadata": {},
   "outputs": [
    {
     "data": {
      "text/plain": [
       "<tf.Tensor: shape=(2, 2), dtype=int32, numpy=\n",
       "array([[23,  4],\n",
       "       [32, 51]])>"
      ]
     },
     "execution_count": 11,
     "metadata": {},
     "output_type": "execute_result"
    }
   ],
   "source": [
    "tensor_from_numpy"
   ]
  },
  {
   "cell_type": "markdown",
   "id": "720f9945",
   "metadata": {},
   "source": [
    "# Operations with constants/tensors"
   ]
  },
  {
   "cell_type": "code",
   "execution_count": 12,
   "id": "3c6e9cc5",
   "metadata": {},
   "outputs": [
    {
     "data": {
      "text/plain": [
       "<tf.Tensor: shape=(2, 2), dtype=int32, numpy=\n",
       "array([[1, 2],\n",
       "       [3, 4]])>"
      ]
     },
     "execution_count": 12,
     "metadata": {},
     "output_type": "execute_result"
    }
   ],
   "source": [
    "tensor = tf.constant([[1, 2], [3, 4]])\n",
    "tensor"
   ]
  },
  {
   "cell_type": "markdown",
   "id": "8ecbb0dc",
   "metadata": {},
   "source": [
    "# Addition between scalar and tensor"
   ]
  },
  {
   "cell_type": "code",
   "execution_count": 13,
   "id": "ad4e00f7",
   "metadata": {},
   "outputs": [
    {
     "data": {
      "text/plain": [
       "<tf.Tensor: shape=(2, 2), dtype=int32, numpy=\n",
       "array([[3, 4],\n",
       "       [5, 6]])>"
      ]
     },
     "execution_count": 13,
     "metadata": {},
     "output_type": "execute_result"
    }
   ],
   "source": [
    "tensor + 2"
   ]
  },
  {
   "cell_type": "markdown",
   "id": "46d4c940",
   "metadata": {},
   "source": [
    "# Multiplication between scalar and tensor"
   ]
  },
  {
   "cell_type": "code",
   "execution_count": 14,
   "id": "6a7b481c",
   "metadata": {},
   "outputs": [
    {
     "data": {
      "text/plain": [
       "<tf.Tensor: shape=(2, 2), dtype=int32, numpy=\n",
       "array([[ 5, 10],\n",
       "       [15, 20]])>"
      ]
     },
     "execution_count": 14,
     "metadata": {},
     "output_type": "execute_result"
    }
   ],
   "source": [
    "tensor * 5"
   ]
  },
  {
   "cell_type": "markdown",
   "id": "f30abf63",
   "metadata": {},
   "source": [
    "# Using Numpy functions on TensorFlow tensors"
   ]
  },
  {
   "cell_type": "code",
   "execution_count": 15,
   "id": "3a3eb604",
   "metadata": {},
   "outputs": [
    {
     "data": {
      "text/plain": [
       "array([[ 1,  4],\n",
       "       [ 9, 16]], dtype=int32)"
      ]
     },
     "execution_count": 15,
     "metadata": {},
     "output_type": "execute_result"
    }
   ],
   "source": [
    "#Squaring all numbers in a tensorflow tensor object\n",
    "np.square(tensor)"
   ]
  },
  {
   "cell_type": "code",
   "execution_count": 16,
   "id": "12c8a9a0",
   "metadata": {},
   "outputs": [
    {
     "data": {
      "text/plain": [
       "array([[1.        , 1.41421356],\n",
       "       [1.73205081, 2.        ]])"
      ]
     },
     "execution_count": 16,
     "metadata": {},
     "output_type": "execute_result"
    }
   ],
   "source": [
    "#Square root of all numbers in a tensorflow tensor object\n",
    "np.sqrt(tensor)"
   ]
  },
  {
   "cell_type": "markdown",
   "id": "5a7ed857",
   "metadata": {},
   "source": [
    "# Dot product between two tensors"
   ]
  },
  {
   "cell_type": "code",
   "execution_count": 17,
   "id": "987e7186",
   "metadata": {},
   "outputs": [
    {
     "data": {
      "text/plain": [
       "array([[ 87, 106],\n",
       "       [197, 216]])"
      ]
     },
     "execution_count": 17,
     "metadata": {},
     "output_type": "execute_result"
    }
   ],
   "source": [
    " np.dot(tensor, tensor_20)"
   ]
  },
  {
   "cell_type": "markdown",
   "id": "ad3c7586",
   "metadata": {},
   "source": [
    "# Operations with variables"
   ]
  },
  {
   "cell_type": "code",
   "execution_count": 19,
   "id": "319021b7",
   "metadata": {},
   "outputs": [
    {
     "data": {
      "text/plain": [
       "<tf.Variable 'Variable:0' shape=(2, 3) dtype=float32, numpy=\n",
       "array([[1., 2., 3.],\n",
       "       [4., 5., 6.]], dtype=float32)>"
      ]
     },
     "execution_count": 19,
     "metadata": {},
     "output_type": "execute_result"
    }
   ],
   "source": [
    "tf2_variable = tf.Variable([[1., 2., 3.], [4., 5., 6.]])\n",
    "tf2_variable"
   ]
  },
  {
   "cell_type": "markdown",
   "id": "ae6cb6f7",
   "metadata": {},
   "source": [
    "# Getting raw value from the variable"
   ]
  },
  {
   "cell_type": "code",
   "execution_count": 20,
   "id": "3ccd99d8",
   "metadata": {},
   "outputs": [
    {
     "data": {
      "text/plain": [
       "array([[1., 2., 3.],\n",
       "       [4., 5., 6.]], dtype=float32)"
      ]
     },
     "execution_count": 20,
     "metadata": {},
     "output_type": "execute_result"
    }
   ],
   "source": [
    "tf2_variable.numpy()"
   ]
  },
  {
   "cell_type": "markdown",
   "id": "2289ea51",
   "metadata": {},
   "source": [
    "# Changing specific value in the TensorFlow variable"
   ]
  },
  {
   "cell_type": "code",
   "execution_count": 21,
   "id": "bbfe1307",
   "metadata": {},
   "outputs": [
    {
     "data": {
      "text/plain": [
       "<tf.Variable 'UnreadVariable' shape=(2, 3) dtype=float32, numpy=\n",
       "array([[  1.,   2., 100.],\n",
       "       [  4.,   5.,   6.]], dtype=float32)>"
      ]
     },
     "execution_count": 21,
     "metadata": {},
     "output_type": "execute_result"
    }
   ],
   "source": [
    "tf2_variable[0, 2].assign(100)"
   ]
  },
  {
   "cell_type": "code",
   "execution_count": 22,
   "id": "560ce045",
   "metadata": {},
   "outputs": [
    {
     "data": {
      "text/plain": [
       "<tf.Variable 'Variable:0' shape=(2, 3) dtype=float32, numpy=\n",
       "array([[  1.,   2., 100.],\n",
       "       [  4.,   5.,   6.]], dtype=float32)>"
      ]
     },
     "execution_count": 22,
     "metadata": {},
     "output_type": "execute_result"
    }
   ],
   "source": [
    "tf2_variable"
   ]
  },
  {
   "cell_type": "markdown",
   "id": "c79d2401",
   "metadata": {},
   "source": [
    "# Strings in TensorFlow"
   ]
  },
  {
   "cell_type": "code",
   "execution_count": 23,
   "id": "39a2e64f",
   "metadata": {},
   "outputs": [
    {
     "data": {
      "text/plain": [
       "<tf.Tensor: shape=(), dtype=string, numpy=b'TensorFlow'>"
      ]
     },
     "execution_count": 23,
     "metadata": {},
     "output_type": "execute_result"
    }
   ],
   "source": [
    "tf_string = tf.constant(\"TensorFlow\")\n",
    "tf_string"
   ]
  },
  {
   "cell_type": "markdown",
   "id": "367d4b3e",
   "metadata": {},
   "source": [
    "# Simple string operations"
   ]
  },
  {
   "cell_type": "code",
   "execution_count": 24,
   "id": "ad0ac273",
   "metadata": {},
   "outputs": [
    {
     "data": {
      "text/plain": [
       "<tf.Tensor: shape=(), dtype=int32, numpy=10>"
      ]
     },
     "execution_count": 24,
     "metadata": {},
     "output_type": "execute_result"
    }
   ],
   "source": [
    "tf.strings.length(tf_string)"
   ]
  },
  {
   "cell_type": "code",
   "execution_count": 25,
   "id": "65388f0a",
   "metadata": {},
   "outputs": [
    {
     "data": {
      "text/plain": [
       "<tf.Tensor: shape=(10,), dtype=int32, numpy=array([ 84, 101, 110, 115, 111, 114,  70, 108, 111, 119])>"
      ]
     },
     "execution_count": 25,
     "metadata": {},
     "output_type": "execute_result"
    }
   ],
   "source": [
    "tf.strings.unicode_decode(tf_string, \"UTF8\")"
   ]
  },
  {
   "cell_type": "markdown",
   "id": "8b3ec305",
   "metadata": {},
   "source": [
    "# Storing arrays of strings"
   ]
  },
  {
   "cell_type": "code",
   "execution_count": 26,
   "id": "db756d14",
   "metadata": {},
   "outputs": [],
   "source": [
    "tf_string_array = tf.constant([\"TensorFlow\", \"Deep Learning\", \"AI\"])"
   ]
  },
  {
   "cell_type": "code",
   "execution_count": 27,
   "id": "ca6f8545",
   "metadata": {},
   "outputs": [
    {
     "name": "stdout",
     "output_type": "stream",
     "text": [
      "tf.Tensor(b'TensorFlow', shape=(), dtype=string)\n",
      "tf.Tensor(b'Deep Learning', shape=(), dtype=string)\n",
      "tf.Tensor(b'AI', shape=(), dtype=string)\n"
     ]
    }
   ],
   "source": [
    "#iterate through the TF string array\n",
    "for string in tf_string_array:\n",
    "  print(string)"
   ]
  },
  {
   "cell_type": "code",
   "execution_count": null,
   "id": "4050f6d1",
   "metadata": {},
   "outputs": [],
   "source": []
  }
 ],
 "metadata": {
  "kernelspec": {
   "display_name": "Python 3 (ipykernel)",
   "language": "python",
   "name": "python3"
  },
  "language_info": {
   "codemirror_mode": {
    "name": "ipython",
    "version": 3
   },
   "file_extension": ".py",
   "mimetype": "text/x-python",
   "name": "python",
   "nbconvert_exporter": "python",
   "pygments_lexer": "ipython3",
   "version": "3.9.7"
  }
 },
 "nbformat": 4,
 "nbformat_minor": 5
}
